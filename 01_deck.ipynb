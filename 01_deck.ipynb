{
 "cells": [
  {
   "cell_type": "code",
   "execution_count": null,
   "metadata": {},
   "outputs": [],
   "source": [
    "#| default_exp deck"
   ]
  },
  {
   "cell_type": "markdown",
   "metadata": {},
   "source": [
    "# deck\n",
    "\n",
    "> API details for the deck of cards"
   ]
  },
  {
   "cell_type": "code",
   "execution_count": null,
   "metadata": {},
   "outputs": [],
   "source": [
    "#|hide\n",
    "from nbdev.showdoc import *\n",
    "from nbdev_cards.card import *\n",
    "from fastcore.utils import *\n",
    "import random"
   ]
  },
  {
   "cell_type": "code",
   "execution_count": null,
   "metadata": {},
   "outputs": [],
   "source": [
    "#|export\n",
    "class Deck:\n",
    "    \"A deck of 52 `Cards` not including joker\"\n",
    "    def __init__(self): self.cards = [Card(s, r) for s in range(4) for r in range(1,14)]\n",
    "    def __len__(self): return len(self.cards)\n",
    "    def __str__(self): return ';'.join(map(str, self.cards))\n",
    "    __repr__ = __str__\n",
    "    def __contains__(self,card:Card): return card in self.cards\n",
    "    def shuffle(self): random.shuffle(self.cards)"
   ]
  },
  {
   "cell_type": "code",
   "execution_count": null,
   "metadata": {},
   "outputs": [
    {
     "data": {
      "text/plain": [
       "A♣️;2♣️;3♣️;4♣️;5♣️;6♣️;7♣️;8♣️;9♣️;10♣️;J♣️;Q♣️;K♣️;A♦️;2♦️;3♦️;4♦️;5♦️;6♦️;7♦️;8♦️;9♦️;10♦️;J♦️;Q♦️;K♦️;A♥️;2♥️;3♥️;4♥️;5♥️;6♥️;7♥️;8♥️;9♥️;10♥️;J♥️;Q♥️;K♥️;A♠️;2♠️;3♠️;4♠️;5♠️;6♠️;7♠️;8♠️;9♠️;10♠️;J♠️;Q♠️;K♠️"
      ]
     },
     "execution_count": null,
     "metadata": {},
     "output_type": "execute_result"
    }
   ],
   "source": [
    "deck = Deck()\n",
    "deck"
   ]
  },
  {
   "cell_type": "code",
   "execution_count": null,
   "metadata": {},
   "outputs": [
    {
     "data": {
      "text/plain": [
       "52"
      ]
     },
     "execution_count": null,
     "metadata": {},
     "output_type": "execute_result"
    }
   ],
   "source": [
    "len(deck)"
   ]
  },
  {
   "cell_type": "code",
   "execution_count": null,
   "metadata": {},
   "outputs": [
    {
     "data": {
      "text/plain": [
       "True"
      ]
     },
     "execution_count": null,
     "metadata": {},
     "output_type": "execute_result"
    }
   ],
   "source": [
    "Card(1,1) in deck"
   ]
  },
  {
   "cell_type": "code",
   "execution_count": null,
   "metadata": {},
   "outputs": [],
   "source": [
    "assert(len(deck)==52)"
   ]
  },
  {
   "cell_type": "code",
   "execution_count": null,
   "metadata": {},
   "outputs": [],
   "source": [
    "#|export\n",
    "@patch\n",
    "def pop(self:Deck, \n",
    "        idx:int=-1  #index of the card in the `Deck` default to the last one\n",
    "       ): return self.cards.pop(idx)"
   ]
  },
  {
   "cell_type": "code",
   "execution_count": null,
   "metadata": {},
   "outputs": [
    {
     "data": {
      "text/plain": [
       "K♠️"
      ]
     },
     "execution_count": null,
     "metadata": {},
     "output_type": "execute_result"
    }
   ],
   "source": [
    "deck.pop()"
   ]
  },
  {
   "cell_type": "code",
   "execution_count": null,
   "metadata": {},
   "outputs": [],
   "source": [
    "deck = Deck()\n",
    "assert(deck.pop()==Card(3,13))"
   ]
  },
  {
   "cell_type": "markdown",
   "metadata": {},
   "source": [
    "There are only 51 cards left in the deck"
   ]
  },
  {
   "cell_type": "code",
   "execution_count": null,
   "metadata": {},
   "outputs": [],
   "source": [
    "assert(len(deck)==51)"
   ]
  },
  {
   "cell_type": "code",
   "execution_count": null,
   "metadata": {},
   "outputs": [],
   "source": [
    "#|export\n",
    "@patch\n",
    "def remove(\n",
    "    self: Deck,\n",
    "    card: Card):  # `Card` to be removed from the deck\n",
    "    \"Removes `Card` from the deck\"\n",
    "    return self.cards.remove(card)"
   ]
  },
  {
   "cell_type": "code",
   "execution_count": null,
   "metadata": {},
   "outputs": [],
   "source": [
    "card23 = Card(2,3)\n",
    "deck.remove(card23)"
   ]
  },
  {
   "cell_type": "code",
   "execution_count": null,
   "metadata": {},
   "outputs": [],
   "source": [
    "assert card23 not in deck"
   ]
  },
  {
   "cell_type": "code",
   "execution_count": null,
   "metadata": {},
   "outputs": [
    {
     "data": {
      "text/markdown": [
       "---\n",
       "\n",
       "#### Deck.shuffle\n",
       "\n",
       ">      Deck.shuffle ()"
      ],
      "text/plain": [
       "<nbdev.showdoc.BasicMarkdownRenderer>"
      ]
     },
     "execution_count": null,
     "metadata": {},
     "output_type": "execute_result"
    }
   ],
   "source": [
    "show_doc(Deck.shuffle)"
   ]
  },
  {
   "cell_type": "code",
   "execution_count": null,
   "metadata": {},
   "outputs": [],
   "source": [
    "#|export\n",
    "def draw(self,\n",
    "        n:int=5,  #`n` is the number of `Cards` to draw, defualt=5 Poker samole\n",
    "        replace:bool=True):  #Do you need to replce them, defaul=True\n",
    "    d = Deck()\n",
    "    d.shuffle()\n",
    "    if replace: return [random.choice(d.cards) for _ in range(n)]\n",
    "    else: return d.cards[:n]"
   ]
  },
  {
   "cell_type": "code",
   "execution_count": null,
   "metadata": {},
   "outputs": [
    {
     "data": {
      "text/plain": [
       "[2♥️, 4♥️, 7♠️, 9♦️, Q♦️]"
      ]
     },
     "execution_count": null,
     "metadata": {},
     "output_type": "execute_result"
    }
   ],
   "source": [
    "draw(5, replace=False)"
   ]
  },
  {
   "cell_type": "code",
   "execution_count": null,
   "metadata": {},
   "outputs": [],
   "source": []
  }
 ],
 "metadata": {
  "kernelspec": {
   "display_name": "Python 3 (ipykernel)",
   "language": "python",
   "name": "python3"
  }
 },
 "nbformat": 4,
 "nbformat_minor": 4
}
